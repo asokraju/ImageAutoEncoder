{
 "cells": [
  {
   "cell_type": "code",
   "execution_count": 35,
   "metadata": {},
   "outputs": [],
   "source": [
    "import os\n",
    "import sys\n",
    "import numpy as  np\n",
    "import matplotlib.pyplot as plt\n",
    "from PIL import  Image\n",
    "import pandas\n",
    "from matplotlib.pyplot import imshow\n",
    "\n",
    "import tensorflow as tf\n",
    "from tensorflow import keras\n",
    "from tensorflow.keras.layers import Input, Dense, Conv2D, Conv2DTranspose, Flatten, Reshape, BatchNormalization\n",
    "from tensorflow.keras.models import Model\n",
    "from datetime import datetime\n",
    "from tensorflow.keras.callbacks import ModelCheckpoint, EarlyStopping\n",
    "from tensorflow.keras import layers"
   ]
  },
  {
   "cell_type": "code",
   "execution_count": 36,
   "metadata": {},
   "outputs": [
    {
     "name": "stdout",
     "output_type": "stream",
     "text": [
      "The parent directory is: c:\\Users\\kkosara\\ImageAutoEncoder\n"
     ]
    }
   ],
   "source": [
    "parent_directory = os.path.abspath(os.path.join(os.getcwd(), os.pardir))\n",
    "print(\"The parent directory is:\", parent_directory)\n",
    "sys.path.append(parent_directory)"
   ]
  },
  {
   "cell_type": "code",
   "execution_count": 37,
   "metadata": {},
   "outputs": [
    {
     "data": {
      "text/plain": [
       "[PhysicalDevice(name='/physical_device:GPU:0', device_type='GPU')]"
      ]
     },
     "execution_count": 37,
     "metadata": {},
     "output_type": "execute_result"
    }
   ],
   "source": [
    "from Data import get_image_data\n",
    "from Models import encoder_model, decoder_model, VAE, load_model_vae\n",
    "os.environ['TF_CPP_MIN_LOG_LEVEL'] = '3' \n",
    "tf.get_logger().setLevel('ERROR')\n",
    "tf.config.list_physical_devices('GPU')"
   ]
  },
  {
   "cell_type": "code",
   "execution_count": 38,
   "metadata": {},
   "outputs": [],
   "source": [
    "# Sampling layer\n",
    "class Sampling(layers.Layer):\n",
    "    \"used to sample a vector in latent space with learned mean - z_mean and (log) variance - z_log_var\"\n",
    "    def call(self, inputs):\n",
    "        z_mean, z_log_var = inputs\n",
    "        batch_size = tf.shape(z_mean)[0]\n",
    "        vec_len = tf.shape(z_mean)[1]\n",
    "        epsilon = tf.keras.backend.random_normal(shape=(batch_size, vec_len))\n",
    "        return z_mean + tf.exp(0.5 * z_log_var) * epsilon\n",
    "\n",
    "# Define the encoder model\n",
    "def encoder_model_gs(input_shape, filters, dense_layer_dim, latent_dim):\n",
    "    \"\"\"\n",
    "    Creates an encoder model for grayscale images that maps input images to a lower-dimensional latent space.\n",
    "    \n",
    "    Args:\n",
    "    - input_shape: Tuple representing the shape of the input images (height, width, channels).\n",
    "    - filters: List of integers representing the number of filters in each convolutional layer.\n",
    "    - dense_layer_dim: Integer representing the number of neurons in the dense layer.\n",
    "    - latent_dim: Integer representing the dimensionality of the latent space.\n",
    "    \n",
    "    Returns:\n",
    "    - encoder: Keras Model object representing the encoder model.\n",
    "    - encoder_layers_dim: List of tuples representing the dimensionality of each layer in the encoder.\n",
    "    \"\"\"\n",
    "    # Create input layer\n",
    "    encoder_layers_dim = []  # List to store the dimensions of each layer in the encoder\n",
    "    \n",
    "    # Define the input layer\n",
    "    encoder_inputs = tf.keras.Input(shape=input_shape)\n",
    "    encoder_layers_dim.append(tuple(encoder_inputs.shape[1:]))  # Add input layer dimensions to list\n",
    "    \n",
    "    # Add convolutional layers with specified number of filters and activation function\n",
    "    x = layers.Conv2D(filters[0], (3,3), activation=\"relu\", strides=2, padding=\"same\")(encoder_inputs)\n",
    "    encoder_layers_dim.append(tuple(x.shape[1:]))  # Add conv layer dimensions to list\n",
    "    x = BatchNormalization()(x)\n",
    "    # Add additional convolutional layers with specified number of filters and activation function\n",
    "    mid_layers = [layers.Conv2D(f, 3, activation=\"relu\", strides=2, padding=\"same\") for f in filters[1:]]\n",
    "    for mid_layer in mid_layers:\n",
    "        x = mid_layer(x)\n",
    "        x = BatchNormalization()(x)\n",
    "        encoder_layers_dim.append(tuple(x.shape[1:]))  # Add mid layer dimensions to list\n",
    "    \n",
    "    # Flatten convolutional output to prepare for dense layers\n",
    "    x = layers.Flatten()(x)\n",
    "    encoder_layers_dim.append(tuple(x.shape[1:]))  # Add flattened layer dimensions to list\n",
    "    \n",
    "    # Add dense layer with specified number of neurons and activation function\n",
    "    x = layers.Dense(dense_layer_dim, activation='relu')(x)\n",
    "    \n",
    "    # Add output layers for latent space (mean and variance) and sample from this space\n",
    "    z_mean = layers.Dense(latent_dim, name = \"z_mean\")(x)\n",
    "    z_log_var = layers.Dense(latent_dim, name=\"z_log_var\")(x)\n",
    "    z = Sampling()([z_mean, z_log_var])\n",
    "    encoder_layers_dim.append(tuple(z.shape[1:]))  # Add output layer dimensions to list\n",
    "    \n",
    "    # Create encoder model\n",
    "    return tf.keras.Model(encoder_inputs, [z_mean, z_log_var, z], name='encoder'), encoder_layers_dim\n",
    "\n",
    "# decoder model for grayscale images\n",
    "def decoder_model_gs(encoder_layers_dim):\n",
    "    # Extract necessary dimensions from encoder model output\n",
    "    latent_dim = encoder_layers_dim[-1][0]\n",
    "    dense_layer_dim = encoder_layers_dim[-2][0]\n",
    "    first_conv_layer_dim = encoder_layers_dim[-3]\n",
    "    output_layer = encoder_layers_dim[0]\n",
    "\n",
    "    # Create input layer for latent space vector\n",
    "    latent_inputs = tf.keras.Input(shape=(latent_dim,))\n",
    "\n",
    "    # Determine number of filters for each transpose convolutional layer\n",
    "    filters = [f[-1] for f in encoder_layers_dim[1:-2]]\n",
    "\n",
    "    # Feed latent vector through a dense layer with ReLU activation\n",
    "    # Note that we apply the first filter in the form of dense and reshape it\n",
    "    x = layers.Dense(16, activation=\"relu\")(latent_inputs)\n",
    "    x = layers.Dense(dense_layer_dim, activation=\"relu\")(x)\n",
    "    x = layers.Reshape(first_conv_layer_dim)(x)\n",
    "\n",
    "    # Apply series of transpose convolutional layers with ReLU activation and same padding and Upsampling\n",
    "    mid_layers = [layers.Conv2DTranspose(f, 3, activation=\"relu\", strides=2, padding=\"same\") for f in filters[::-1]]\n",
    "    for mid_layer in mid_layers:\n",
    "        x = mid_layer(x)\n",
    "        x = BatchNormalization()(x)\n",
    "\n",
    "    # Apply final convolutional layer with sigmoid activation to output reconstructed image\n",
    "    decoder_outputs = layers.Conv2DTranspose(output_layer[-1], 3, activation=\"sigmoid\", padding=\"same\")(x)\n",
    "\n",
    "    # Create and return Keras model with latent vector as input and reconstructed image as output\n",
    "    return tf.keras.Model(latent_inputs, decoder_outputs, name=\"decoder\")\n",
    "\n",
    "def ssim_loss(y_true, y_pred):\n",
    "    # Compute the negative SSIM between y_true and y_pred\n",
    "    ssim = tf.image.ssim(y_true, y_pred, max_val=1.0)\n",
    "    loss = 1.0 - ssim\n",
    "    return loss\n",
    "\n",
    "# VAE for GrayScale Images\n",
    "class VAE_RBG(tf.keras.Model):\n",
    "    \"\"\"\n",
    "    This is a Variational Autoencoder (VAE) implemented using the Keras Model API. It has an encoder and a decoder network defined separately and passed to the constructor as arguments. The VAE class inherits from the Keras Model class and overrides the train_step() method to define the training loop.\n",
    "\n",
    "    During forward pass, the encoder takes an input image and outputs the mean and standard deviation of a latent space distribution, as well as a sampled vector from that distribution. The decoder takes the sampled vector and outputs a reconstructed image.\n",
    "\n",
    "    The training loop consists of computing the reconstruction loss and the KL divergence loss, and then computing gradients and updating weights using the Adam optimizer. The reconstruction loss measures the difference between the input image and the reconstructed image, while the KL divergence loss measures the divergence between the latent space distribution and a standard normal distribution. The total loss is the sum of the two losses.\n",
    "\n",
    "    The VAE class also defines three metrics to track during training: the total loss, the reconstruction loss, and the KL divergence loss. These metrics are updated in the train_step() method and can be accessed via the metrics property. The train_step() method returns a dictionary of these metrics.\n",
    "    \n",
    "    \"\"\"\n",
    "    def __init__(self, encoder, decoder, **kwargs):\n",
    "        super().__init__(**kwargs)\n",
    "        self.encoder = encoder\n",
    "        self.decoder = decoder\n",
    "        \n",
    "        # Define metrics to track during training\n",
    "        self.total_loss_tracker = tf.keras.metrics.Mean(name=\"total_loss\")\n",
    "        self.reconstruction_loss_tracker = tf.keras.metrics.Mean(name=\"reconstruction_loss\")\n",
    "        self.kl_loss_tracker = tf.keras.metrics.Mean(name=\"kl_loss\")\n",
    "\n",
    "    @property\n",
    "    def metrics(self):\n",
    "        return [\n",
    "            self.total_loss_tracker,\n",
    "            self.reconstruction_loss_tracker,\n",
    "            self.kl_loss_tracker,\n",
    "        ]\n",
    "    \n",
    "    # Define forward pass\n",
    "    def call(self, x):\n",
    "        z_mean, z_log_var, z = self.encoder(x)\n",
    "        reconstruction = self.decoder(z)\n",
    "        return z_mean, z_log_var, z, reconstruction\n",
    "\n",
    "    # Define training step\n",
    "    def train_step(self, data):\n",
    "        with tf.GradientTape() as tape:\n",
    "            # Forward pass through encoder and decoder\n",
    "            z_mean, z_log_var, z, reconstruction = self(data)\n",
    "            \n",
    "            # Compute reconstruction loss\n",
    "            #tf.keras.losses.MeanAbsoluteError()\n",
    "            # tf.keras.losses.MeanSquaredError()\n",
    "            reconstruction_loss = tf.reduce_mean(tf.keras.losses.MeanAbsoluteError()(data, reconstruction))\n",
    "            # ssim = tf.image.ssim(data, reconstruction, max_val=1.0)\n",
    "            # reconstruction_loss = 1.0 - ssim\n",
    "            # Compute KL divergence loss\n",
    "            kl_loss = -0.5 * (1 + z_log_var - tf.square(z_mean) - tf.exp(z_log_var))\n",
    "            kl_loss = tf.reduce_mean(tf.reduce_sum(kl_loss, axis=1))\n",
    "\n",
    "            # Compute total loss\n",
    "            total_loss = reconstruction_loss + 1e5*kl_loss\n",
    "            \n",
    "        # Compute gradients and update weights\n",
    "        grads = tape.gradient(total_loss, self.trainable_weights)\n",
    "        self.optimizer.apply_gradients(zip(grads, self.trainable_weights))\n",
    "        \n",
    "        # Update metrics\n",
    "        self.total_loss_tracker.update_state(total_loss)\n",
    "        self.reconstruction_loss_tracker.update_state(reconstruction_loss)\n",
    "        self.kl_loss_tracker.update_state(kl_loss)\n",
    "        \n",
    "        # Return metrics as dictionary\n",
    "        return {\n",
    "            \"loss\": self.total_loss_tracker.result(),\n",
    "            \"reconstruction_loss\": self.reconstruction_loss_tracker.result(),\n",
    "            \"kl_loss\": self.kl_loss_tracker.result(),\n",
    "        }\n",
    "\n",
    "class VAECallbackRGB(tf.keras.callbacks.Callback):\n",
    "    def __init__(self, vae, test_dataset, n=10):\n",
    "        self.vae = vae\n",
    "        self.test_dataset = test_dataset\n",
    "        self.n = n\n",
    "    \n",
    "    def on_epoch_end(self, epoch, logs=None):\n",
    "        # Generate decoded images from the test input\n",
    "        test_batch = next(iter(self.test_dataset))\n",
    "        _, _, _, reconstructed_images = self.vae.predict(test_batch)\n",
    "\n",
    "        # Rescale pixel values to [0, 1]\n",
    "        reconstructed_images = np.clip(reconstructed_images, 0.0, 1.0)\n",
    "\n",
    "        # Plot the original and reconstructed images side by side\n",
    "        plt.figure(figsize=(10, 20))\n",
    "        for i in range(self.n):\n",
    "            plt.subplot(10, 2, 2*i+1)\n",
    "            plt.imshow(test_batch[i])\n",
    "            plt.axis('off')\n",
    "            plt.subplot(10, 2, 2*i+2)\n",
    "            plt.imshow(reconstructed_images[i])\n",
    "            plt.axis('off')\n",
    "        plt.savefig('decoded_images_epoch_{:04d}.png'.format(epoch))\n",
    "        plt.show()\n"
   ]
  },
  {
   "cell_type": "code",
   "execution_count": 39,
   "metadata": {},
   "outputs": [
    {
     "name": "stdout",
     "output_type": "stream",
     "text": [
      "C:\\\\Users\\\\kkosara\\\\eight_30_hz\n",
      "Total number of imges: 155135\n",
      "(56, 56, 3)\n"
     ]
    },
    {
     "data": {
      "image/png": "[encoded data removed]",
      "text/plain": [
       "<Figure size 640x480 with 1 Axes>"
      ]
     },
     "metadata": {},
     "output_type": "display_data"
    },
    {
     "name": "stdout",
     "output_type": "stream",
     "text": [
      "(56, 56, 3)\n"
     ]
    },
    {
     "data": {
      "image/png": "[encoded data removed]",
      "text/plain": [
       "<Figure size 640x480 with 1 Axes>"
      ]
     },
     "metadata": {},
     "output_type": "display_data"
    },
    {
     "name": "stdout",
     "output_type": "stream",
     "text": [
      "(56, 56, 3)\n"
     ]
    },
    {
     "data": {
      "image/png": "[encoded data removed]",
      "text/plain": [
       "<Figure size 640x480 with 1 Axes>"
      ]
     },
     "metadata": {},
     "output_type": "display_data"
    },
    {
     "name": "stdout",
     "output_type": "stream",
     "text": [
      "(56, 56, 3)\n"
     ]
    },
    {
     "data": {
      "image/png": "[encoded data removed]",
      "text/plain": [
       "<Figure size 640x480 with 1 Axes>"
      ]
     },
     "metadata": {},
     "output_type": "display_data"
    },
    {
     "name": "stdout",
     "output_type": "stream",
     "text": [
      "(56, 56, 3)\n"
     ]
    },
    {
     "data": {
      "image/png": "[encoded data removed]",
      "text/plain": [
       "<Figure size 640x480 with 1 Axes>"
      ]
     },
     "metadata": {},
     "output_type": "display_data"
    }
   ],
   "source": [
    "# The directory path where your image data is stored\n",
    "# all_dirs = ['/home/kkosara/AutoDRIVE-Nigel-Dataset/fishhook_30_hz', '/home/kkosara/AutoDRIVE-Nigel-Dataset/skidpad_30_hz', '/home/kkosara/AutoDRIVE-Nigel-Dataset/slalom_30_hz']\n",
    "DATA_DIR =  [r'C:\\\\Users\\\\kkosara\\\\eight_30_hz'] # C:\\Users\\kkosara\\eight_30_hz\n",
    "OUTPUT_IMAGE_SHAPE = 56\n",
    "INPUT_SHAPE = (OUTPUT_IMAGE_SHAPE, OUTPUT_IMAGE_SHAPE, 3)\n",
    "FILTERS = [32, 64]\n",
    "NUM_CONV_LAYERS = len(FILTERS)\n",
    "DENSE_LAYER_DIM = 16\n",
    "LATENT_DIM = 20\n",
    "BETA = 1.0\n",
    "BATCH_SIZE = 128\n",
    "AUTOTUNE = tf.data.AUTOTUNE\n",
    "LEARNING_RATE = 1e-4\n",
    "PATIENCE = 10\n",
    "EPOCHS  = 2\n",
    "TRAIN_SPLIT = 0.8\n",
    "LOGDIR = os.path.join(\"logs\", datetime.now().strftime(\"%Y%m%d-%H%M%S\"))\n",
    "GRAYSCALE = True\n",
    "\n",
    "# all_image_paths = get_image_data(DATA_DIR)\n",
    "# image_count = len(all_image_paths)\n",
    "\n",
    "# Create a dataset from the list of image file paths\n",
    "all_image_paths = get_image_data(DATA_DIR)\n",
    "image_count = len(all_image_paths)\n",
    "\n",
    "# Create a dataset from the list of image file paths\n",
    "dataset = tf.data.Dataset.from_tensor_slices(all_image_paths)\n",
    "\n",
    "# Shuffle the dataset with a buffer size of 1000 and seed of 42\n",
    "dataset = dataset.shuffle(buffer_size=1000, seed=42, reshuffle_each_iteration=False)\n",
    "\n",
    "# Load and preprocess the images\n",
    "def load_and_preprocess_image(path, shape=(OUTPUT_IMAGE_SHAPE, OUTPUT_IMAGE_SHAPE)):\n",
    "    # Load the image file\n",
    "    image = tf.io.read_file(path)\n",
    "    # Decode the image to a tensor\n",
    "    image = tf.image.decode_jpeg(image, channels=3)\n",
    "    # Resize the image to the desired size\n",
    "    image = tf.image.resize(image, shape)\n",
    "    # Normalize the pixel values to be between 0 and 1\n",
    "    image = tf.cast(image, tf.float32) / 255.0\n",
    "    return image\n",
    "\n",
    "dataset = dataset.map(load_and_preprocess_image)\n",
    "for image in dataset.take(5):\n",
    "    image_np = image.numpy() # convert to a NumPy array\n",
    "    print(image.shape)\n",
    "    # create a PIL Image object from the NumPy array\n",
    "    pil_image = Image.fromarray(np.uint8(image_np*255))\n",
    "    # Display the image using Matplotlib\n",
    "    # plt.imshow(image_np, cmap='gray')\n",
    "    plt.axis('off')\n",
    "\n",
    "    # plot the image using matplotlib\n",
    "    plt.imshow(pil_image)\n",
    "    plt.show()\n",
    "# Split the dataset into training and validation sets\n",
    "train_dataset = dataset.take(int(TRAIN_SPLIT * image_count))\n",
    "val_dataset = dataset.take(int((1-TRAIN_SPLIT) * image_count))\n",
    "# train_dataset = train_dataset.shuffle(buffer_size=500, seed=42)\n",
    "train_dataset = train_dataset.shuffle(buffer_size=500, seed=42)\n",
    "train_dataset = train_dataset.batch(BATCH_SIZE)\n",
    "train_dataset = train_dataset.prefetch(buffer_size=AUTOTUNE)\n",
    "\n",
    "val_dataset = val_dataset.shuffle(buffer_size=500, seed=42)\n",
    "val_dataset = val_dataset.batch(BATCH_SIZE)\n",
    "val_dataset = val_dataset.prefetch(buffer_size=AUTOTUNE)"
   ]
  },
  {
   "cell_type": "code",
   "execution_count": 40,
   "metadata": {},
   "outputs": [
    {
     "name": "stdout",
     "output_type": "stream",
     "text": [
      "Model: \"encoder\"\n",
      "__________________________________________________________________________________________________\n",
      "Layer (type)                    Output Shape         Param #     Connected to                     \n",
      "==================================================================================================\n",
      "input_10 (InputLayer)           [(None, 56, 56, 3)]  0                                            \n",
      "__________________________________________________________________________________________________\n",
      "conv2d_9 (Conv2D)               (None, 28, 28, 32)   896         input_10[0][0]                   \n",
      "__________________________________________________________________________________________________\n",
      "batch_normalization_17 (BatchNo (None, 28, 28, 32)   128         conv2d_9[0][0]                   \n",
      "__________________________________________________________________________________________________\n",
      "conv2d_10 (Conv2D)              (None, 14, 14, 64)   18496       batch_normalization_17[0][0]     \n",
      "__________________________________________________________________________________________________\n",
      "batch_normalization_18 (BatchNo (None, 14, 14, 64)   256         conv2d_10[0][0]                  \n",
      "__________________________________________________________________________________________________\n",
      "flatten_4 (Flatten)             (None, 12544)        0           batch_normalization_18[0][0]     \n",
      "__________________________________________________________________________________________________\n",
      "dense_12 (Dense)                (None, 16)           200720      flatten_4[0][0]                  \n",
      "__________________________________________________________________________________________________\n",
      "z_mean (Dense)                  (None, 20)           340         dense_12[0][0]                   \n",
      "__________________________________________________________________________________________________\n",
      "z_log_var (Dense)               (None, 20)           340         dense_12[0][0]                   \n",
      "__________________________________________________________________________________________________\n",
      "sampling_4 (Sampling)           (None, 20)           0           z_mean[0][0]                     \n",
      "                                                                 z_log_var[0][0]                  \n",
      "==================================================================================================\n",
      "Total params: 221,176\n",
      "Trainable params: 220,984\n",
      "Non-trainable params: 192\n",
      "__________________________________________________________________________________________________\n",
      "None\n",
      "[(56, 56, 3), (28, 28, 32), (14, 14, 64), (12544,), (20,)]\n",
      "Model: \"decoder\"\n",
      "_________________________________________________________________\n",
      "Layer (type)                 Output Shape              Param #   \n",
      "=================================================================\n",
      "input_11 (InputLayer)        [(None, 20)]              0         \n",
      "_________________________________________________________________\n",
      "dense_13 (Dense)             (None, 16)                336       \n",
      "_________________________________________________________________\n",
      "dense_14 (Dense)             (None, 12544)             213248    \n",
      "_________________________________________________________________\n",
      "reshape_4 (Reshape)          (None, 14, 14, 64)        0         \n",
      "_________________________________________________________________\n",
      "conv2d_transpose_12 (Conv2DT (None, 28, 28, 64)        36928     \n",
      "_________________________________________________________________\n",
      "batch_normalization_19 (Batc (None, 28, 28, 64)        256       \n",
      "_________________________________________________________________\n",
      "conv2d_transpose_13 (Conv2DT (None, 56, 56, 32)        18464     \n",
      "_________________________________________________________________\n",
      "batch_normalization_20 (Batc (None, 56, 56, 32)        128       \n",
      "_________________________________________________________________\n",
      "conv2d_transpose_14 (Conv2DT (None, 56, 56, 3)         867       \n",
      "=================================================================\n",
      "Total params: 270,227\n",
      "Trainable params: 270,035\n",
      "Non-trainable params: 192\n",
      "_________________________________________________________________\n",
      "None\n"
     ]
    }
   ],
   "source": [
    "encoder, encoder_layers_dim = encoder_model_gs(input_shape = INPUT_SHAPE, filters=FILTERS, dense_layer_dim=DENSE_LAYER_DIM, latent_dim=LATENT_DIM)\n",
    "print(encoder.summary())\n",
    "print(encoder_layers_dim)\n",
    "decoder = decoder_model_gs(encoder_layers_dim)\n",
    "print(decoder.summary())\n",
    "vae = VAE_RBG(encoder, decoder)\n",
    "vae.compile(optimizer=tf.keras.optimizers.Adam())"
   ]
  },
  {
   "cell_type": "code",
   "execution_count": 41,
   "metadata": {},
   "outputs": [
    {
     "name": "stdout",
     "output_type": "stream",
     "text": [
      "Epoch 1/300\n",
      "684/970 [====================>.........] - ETA: 18s - loss: 46.6831 - reconstruction_loss: 0.1014 - kl_loss: 7.3126e-05"
     ]
    }
   ],
   "source": [
    "vae_callback = VAECallbackRGB(vae, val_dataset)\n",
    "\n",
    "history = vae.fit(train_dataset, epochs=300, callbacks=[vae_callback])\n"
   ]
  }
 ],
 "metadata": {
  "kernelspec": {
   "display_name": "tf_baseline_gpu",
   "language": "python",
   "name": "python3"
  },
  "language_info": {
   "codemirror_mode": {
    "name": "ipython",
    "version": 3
   },
   "file_extension": ".py",
   "mimetype": "text/x-python",
   "name": "python",
   "nbconvert_exporter": "python",
   "pygments_lexer": "ipython3",
   "version": "3.9.16"
  },
  "orig_nbformat": 4
 },
 "nbformat": 4,
 "nbformat_minor": 2
}
